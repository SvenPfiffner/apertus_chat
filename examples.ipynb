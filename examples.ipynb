{
 "cells": [
  {
   "cell_type": "markdown",
   "id": "00306293",
   "metadata": {},
   "source": [
    "# Apertus Python Client – Hands-on Examples\n",
    "\n",
    "This notebook demonstrates how to use the `apertus` client to call the Apertus (Public AI Gateway) inference API. It mirrors familiar OpenAI-style ergonomics and includes sync, streaming, and async flows."
   ]
  },
  {
   "cell_type": "code",
   "execution_count": 1,
   "id": "832f5509",
   "metadata": {},
   "outputs": [],
   "source": [
    "# 1) Import and Auto-Reload\n",
    "%load_ext autoreload\n",
    "%autoreload 2\n",
    "\n",
    "from apertus import Apertus, AsyncApertus, ApertusAPIError\n",
    "from apertus.types import ChatMessage\n",
    "import os, json, asyncio, time\n"
   ]
  },
  {
   "cell_type": "code",
   "execution_count": 2,
   "id": "508366e8",
   "metadata": {},
   "outputs": [
    {
     "name": "stdout",
     "output_type": "stream",
     "text": [
      "Obtaining file:///home/svenp/Documents/apertus_chat\n",
      "  Installing build dependencies ... \u001b[?25ldone\n",
      "\u001b[?25h  Checking if build backend supports build_editable ... \u001b[?25ldone\n",
      "\u001b[?25h  Getting requirements to build editable ... \u001b[?25ldone\n",
      "\u001b[?25h  Preparing editable metadata (pyproject.toml) ... \u001b[?25ldone\n",
      "\u001b[?25hRequirement already satisfied: httpx>=0.25 in ./.venv/lib/python3.13/site-packages (from apertus==0.1.0) (0.28.1)\n",
      "Requirement already satisfied: pydantic>=2.4 in ./.venv/lib/python3.13/site-packages (from apertus==0.1.0) (2.11.7)\n",
      "Requirement already satisfied: typing-extensions>=4.7 in ./.venv/lib/python3.13/site-packages (from apertus==0.1.0) (4.15.0)\n",
      "Requirement already satisfied: anyio in ./.venv/lib/python3.13/site-packages (from httpx>=0.25->apertus==0.1.0) (4.10.0)\n",
      "Requirement already satisfied: certifi in ./.venv/lib/python3.13/site-packages (from httpx>=0.25->apertus==0.1.0) (2025.8.3)\n",
      "Requirement already satisfied: httpcore==1.* in ./.venv/lib/python3.13/site-packages (from httpx>=0.25->apertus==0.1.0) (1.0.9)\n",
      "Requirement already satisfied: idna in ./.venv/lib/python3.13/site-packages (from httpx>=0.25->apertus==0.1.0) (3.10)\n",
      "Requirement already satisfied: h11>=0.16 in ./.venv/lib/python3.13/site-packages (from httpcore==1.*->httpx>=0.25->apertus==0.1.0) (0.16.0)\n",
      "Requirement already satisfied: annotated-types>=0.6.0 in ./.venv/lib/python3.13/site-packages (from pydantic>=2.4->apertus==0.1.0) (0.7.0)\n",
      "Requirement already satisfied: pydantic-core==2.33.2 in ./.venv/lib/python3.13/site-packages (from pydantic>=2.4->apertus==0.1.0) (2.33.2)\n",
      "Requirement already satisfied: typing-inspection>=0.4.0 in ./.venv/lib/python3.13/site-packages (from pydantic>=2.4->apertus==0.1.0) (0.4.1)\n",
      "Requirement already satisfied: sniffio>=1.1 in ./.venv/lib/python3.13/site-packages (from anyio->httpx>=0.25->apertus==0.1.0) (1.3.1)\n",
      "Building wheels for collected packages: apertus\n",
      "  Building editable for apertus (pyproject.toml) ... \u001b[?25ldone\n",
      "\u001b[?25h  Created wheel for apertus: filename=apertus-0.1.0-0.editable-py3-none-any.whl size=3674 sha256=fd4115a2f2c93accb25185c6c71e9b47889383ea824e8aceba956b2dc326d178\n",
      "  Stored in directory: /tmp/pip-ephem-wheel-cache-4b_2uddk/wheels/8a/49/1d/bcff3240cd9a3a7b6851df135623214d5b4300857a9d14f374\n",
      "Successfully built apertus\n",
      "Installing collected packages: apertus\n",
      "  Attempting uninstall: apertus\n",
      "    Found existing installation: apertus 0.1.0\n",
      "    Uninstalling apertus-0.1.0:\n",
      "      Successfully uninstalled apertus-0.1.0\n",
      "Successfully installed apertus-0.1.0\n",
      "Note: you may need to restart the kernel to use updated packages.\n",
      "Python: 3.13.0 (main, Oct  7 2024, 05:02:14) [GCC 11.4.0]\n",
      "Apertus version: 0.1.0\n"
     ]
    }
   ],
   "source": [
    "# 2) Local Install and Version Check\n",
    "%pip install -e .\n",
    "\n",
    "import sys, importlib.metadata as il\n",
    "print(\"Python:\", sys.version)\n",
    "print(\"Apertus version:\", il.version(\"apertus\"))"
   ]
  },
  {
   "cell_type": "code",
   "execution_count": 5,
   "id": "1a6b781d",
   "metadata": {},
   "outputs": [
    {
     "ename": "ValueError",
     "evalue": "API key is required. Set APERTUS_API_KEY or pass api_key.",
     "output_type": "error",
     "traceback": [
      "\u001b[31m---------------------------------------------------------------------------\u001b[39m",
      "\u001b[31mValueError\u001b[39m                                Traceback (most recent call last)",
      "\u001b[36mCell\u001b[39m\u001b[36m \u001b[39m\u001b[32mIn[5]\u001b[39m\u001b[32m, line 4\u001b[39m\n\u001b[32m      1\u001b[39m \u001b[38;5;66;03m# 3) Quickstart: Core API Call — List Models and pick a model\u001b[39;00m\n\u001b[32m      2\u001b[39m os.environ.setdefault(\u001b[33m\"\u001b[39m\u001b[33mAPERTUS_API_KEY\u001b[39m\u001b[33m\"\u001b[39m, \u001b[33m\"\u001b[39m\u001b[33mzpka_874ace62ff264105865e9bb92780cde7_79660f8b\u001b[39m\u001b[33m\"\u001b[39m)  \u001b[38;5;66;03m# optionally set here\u001b[39;00m\n\u001b[32m----> \u001b[39m\u001b[32m4\u001b[39m client = \u001b[43mApertus\u001b[49m\u001b[43m(\u001b[49m\u001b[43mapi_key\u001b[49m\u001b[43m=\u001b[49m\u001b[43mos\u001b[49m\u001b[43m.\u001b[49m\u001b[43mgetenv\u001b[49m\u001b[43m(\u001b[49m\u001b[33;43m\"\u001b[39;49m\u001b[33;43mAPERTUS_API_KEY\u001b[39;49m\u001b[33;43m\"\u001b[39;49m\u001b[43m)\u001b[49m\u001b[43m)\u001b[49m\n\u001b[32m      5\u001b[39m models = client.models.list()\n\u001b[32m      6\u001b[39m \u001b[38;5;28mprint\u001b[39m(\u001b[33m\"\u001b[39m\u001b[33mAvailable models:\u001b[39m\u001b[33m\"\u001b[39m, [m.id \u001b[38;5;28;01mfor\u001b[39;00m m \u001b[38;5;129;01min\u001b[39;00m models.data][:\u001b[32m10\u001b[39m])\n",
      "\u001b[36mFile \u001b[39m\u001b[32m~/Documents/apertus_chat/apertus/client.py:114\u001b[39m, in \u001b[36mApertus.__init__\u001b[39m\u001b[34m(self, api_key, base_url, timeout)\u001b[39m\n\u001b[32m    113\u001b[39m \u001b[38;5;28;01mdef\u001b[39;00m\u001b[38;5;250m \u001b[39m\u001b[34m__init__\u001b[39m(\u001b[38;5;28mself\u001b[39m, api_key: Optional[\u001b[38;5;28mstr\u001b[39m] = \u001b[38;5;28;01mNone\u001b[39;00m, *, base_url: \u001b[38;5;28mstr\u001b[39m = \u001b[38;5;28;01mNone\u001b[39;00m, timeout: \u001b[38;5;28mfloat\u001b[39m = \u001b[32m30.0\u001b[39m):\n\u001b[32m--> \u001b[39m\u001b[32m114\u001b[39m     \u001b[38;5;28mself\u001b[39m._http = \u001b[43mSyncHTTP\u001b[49m\u001b[43m(\u001b[49m\u001b[43mapi_key\u001b[49m\u001b[43m=\u001b[49m\u001b[43mapi_key\u001b[49m\u001b[43m,\u001b[49m\u001b[43m \u001b[49m\u001b[43mbase_url\u001b[49m\u001b[43m=\u001b[49m\u001b[43mbase_url\u001b[49m\u001b[43m \u001b[49m\u001b[38;5;129;43;01mor\u001b[39;49;00m\u001b[43m \u001b[49m\u001b[33;43m\"\u001b[39;49m\u001b[33;43mhttps://api.publicai.co\u001b[39;49m\u001b[33;43m\"\u001b[39;49m\u001b[43m,\u001b[49m\u001b[43m \u001b[49m\u001b[43mtimeout\u001b[49m\u001b[43m=\u001b[49m\u001b[43mtimeout\u001b[49m\u001b[43m)\u001b[49m\n\u001b[32m    115\u001b[39m     \u001b[38;5;28mself\u001b[39m.models = _Models(\u001b[38;5;28mself\u001b[39m._http)\n\u001b[32m    116\u001b[39m     \u001b[38;5;28mself\u001b[39m.chat = _Chat(\u001b[38;5;28mself\u001b[39m._http)\n",
      "\u001b[36mFile \u001b[39m\u001b[32m~/Documents/apertus_chat/apertus/http.py:28\u001b[39m, in \u001b[36mSyncHTTP.__init__\u001b[39m\u001b[34m(self, *args, **kwargs)\u001b[39m\n\u001b[32m     27\u001b[39m \u001b[38;5;28;01mdef\u001b[39;00m\u001b[38;5;250m \u001b[39m\u001b[34m__init__\u001b[39m(\u001b[38;5;28mself\u001b[39m, *args, **kwargs):\n\u001b[32m---> \u001b[39m\u001b[32m28\u001b[39m     \u001b[38;5;28;43msuper\u001b[39;49m\u001b[43m(\u001b[49m\u001b[43m)\u001b[49m\u001b[43m.\u001b[49m\u001b[34;43m__init__\u001b[39;49m\u001b[43m(\u001b[49m\u001b[43m*\u001b[49m\u001b[43margs\u001b[49m\u001b[43m,\u001b[49m\u001b[43m \u001b[49m\u001b[43m*\u001b[49m\u001b[43m*\u001b[49m\u001b[43mkwargs\u001b[49m\u001b[43m)\u001b[49m\n\u001b[32m     29\u001b[39m     \u001b[38;5;28mself\u001b[39m._client = httpx.Client(base_url=\u001b[38;5;28mself\u001b[39m.base_url, headers=\u001b[38;5;28mself\u001b[39m._headers(), timeout=\u001b[38;5;28mself\u001b[39m.timeout)\n",
      "\u001b[36mFile \u001b[39m\u001b[32m~/Documents/apertus_chat/apertus/http.py:15\u001b[39m, in \u001b[36m_BaseHTTP.__init__\u001b[39m\u001b[34m(self, api_key, base_url, timeout)\u001b[39m\n\u001b[32m     13\u001b[39m \u001b[38;5;28mself\u001b[39m.api_key = api_key \u001b[38;5;129;01mor\u001b[39;00m os.getenv(\u001b[33m\"\u001b[39m\u001b[33mAPERTUS_API_KEY\u001b[39m\u001b[33m\"\u001b[39m)\n\u001b[32m     14\u001b[39m \u001b[38;5;28;01mif\u001b[39;00m \u001b[38;5;129;01mnot\u001b[39;00m \u001b[38;5;28mself\u001b[39m.api_key:\n\u001b[32m---> \u001b[39m\u001b[32m15\u001b[39m     \u001b[38;5;28;01mraise\u001b[39;00m \u001b[38;5;167;01mValueError\u001b[39;00m(\u001b[33m\"\u001b[39m\u001b[33mAPI key is required. Set APERTUS_API_KEY or pass api_key.\u001b[39m\u001b[33m\"\u001b[39m)\n\u001b[32m     16\u001b[39m \u001b[38;5;28mself\u001b[39m.base_url = base_url.rstrip(\u001b[33m\"\u001b[39m\u001b[33m/\u001b[39m\u001b[33m\"\u001b[39m)\n\u001b[32m     17\u001b[39m \u001b[38;5;28mself\u001b[39m.timeout = timeout\n",
      "\u001b[31mValueError\u001b[39m: API key is required. Set APERTUS_API_KEY or pass api_key."
     ]
    }
   ],
   "source": [
    "# 3) Quickstart: Core API Call — List Models and pick a model\n",
    "os.environ.setdefault(\"APERTUS_API_KEY\", \"zpka_874ace62ff264105865e9bb92780cde7_79660f8b\")  # optionally set here\n",
    "\n",
    "client = Apertus(api_key=os.getenv(\"APERTUS_API_KEY\"))\n",
    "models = client.models.list()\n",
    "print(\"Available models:\", [m.id for m in models.data][:10])\n",
    "\n",
    "model_id = models.data[0].id if models.data else None\n",
    "print(\"Selected model:\", model_id)"
   ]
  },
  {
   "cell_type": "code",
   "execution_count": null,
   "id": "34c74348",
   "metadata": {},
   "outputs": [],
   "source": [
    "# 4) Non-streaming Chat Completion\n",
    "assert model_id is not None, \"No model available; ensure your API key has access.\"\n",
    "resp = client.chat.completions.create(\n",
    "    model=model_id,\n",
    "    messages=[{\"role\": \"user\", \"content\": \"Hello Apertus!\"}],\n",
    "    temperature=0.2,\n",
    "    max_tokens=64,\n",
    ")\n",
    "print(resp.choices[0].message.content)"
   ]
  },
  {
   "cell_type": "code",
   "execution_count": null,
   "id": "76a41975",
   "metadata": {},
   "outputs": [],
   "source": [
    "# 5) Streaming Chat Completion\n",
    "chunks = []\n",
    "for ev in client.chat.completions.stream(\n",
    "    model=model_id,\n",
    "    messages=[{\"role\": \"user\", \"content\": \"Stream a short greeting sentence.\"}],\n",
    "    temperature=0.2,\n",
    "    max_tokens=64,\n",
    "):\n",
    "    if ev.delta:\n",
    "        print(ev.delta, end=\"\", flush=True)\n",
    "        chunks.append(ev.delta)\n",
    "print()  # newline\n",
    "streamed_text = \"\".join(chunks)"
   ]
  },
  {
   "cell_type": "code",
   "execution_count": null,
   "id": "4d7f6ff9",
   "metadata": {},
   "outputs": [],
   "source": [
    "# 6) Async usage\n",
    "async def async_demo():\n",
    "    aclient = AsyncApertus()\n",
    "    models = await aclient.models.list()\n",
    "    m = models.data[0].id if models.data else None\n",
    "    assert m, \"No model available\"\n",
    "    resp = await aclient.chat.completions.create(\n",
    "        model=m,\n",
    "        messages=[{\"role\": \"user\", \"content\": \"Async hello!\"}],\n",
    "    )\n",
    "    print(resp.choices[0].message.content)\n",
    "\n",
    "await async_demo()"
   ]
  },
  {
   "cell_type": "code",
   "execution_count": null,
   "id": "e3354470",
   "metadata": {},
   "outputs": [],
   "source": [
    "# 7) Error Handling and Logging\n",
    "import logging\n",
    "logging.basicConfig(level=logging.INFO)\n",
    "\n",
    "try:\n",
    "    bad = Apertus(api_key=\"invalid-key\")\n",
    "    bad.models.list()\n",
    "except ApertusAPIError as e:\n",
    "    print(\"Caught ApertusAPIError:\", e.status_code, e.message)\n"
   ]
  },
  {
   "cell_type": "code",
   "execution_count": null,
   "id": "b002c71f",
   "metadata": {},
   "outputs": [],
   "source": [
    "# 8) Configuration via Environment and Parameters\n",
    "# Using environment variable:\n",
    "os.environ[\"APERTUS_API_KEY\"] = os.environ.get(\"APERTUS_API_KEY\", \"\")\n",
    "client_env = Apertus()\n",
    "\n",
    "# Override base_url and timeout if you run via a proxy/gateway.\n",
    "client_custom = Apertus(api_key=os.getenv(\"APERTUS_API_KEY\"), base_url=\"https://api.publicai.co\", timeout=60.0)\n",
    "print(\"Configured custom client with longer timeout.\")"
   ]
  },
  {
   "cell_type": "code",
   "execution_count": null,
   "id": "647d1d36",
   "metadata": {},
   "outputs": [],
   "source": [
    "# 9) Performance: timeit\n",
    "%timeit client.chat.completions.create(model=model_id, messages=[{\"role\": \"user\", \"content\": \"ping\"}], max_tokens=8)"
   ]
  },
  {
   "cell_type": "code",
   "execution_count": null,
   "id": "474ae4c6",
   "metadata": {},
   "outputs": [],
   "source": [
    "# 10) Batch Processing with pandas + tqdm\n",
    "import pandas as pd\n",
    "from tqdm.auto import tqdm\n",
    "\n",
    "prompts = pd.DataFrame({\"prompt\": [\n",
    "    \"Say hi in one word\",\n",
    "    \"Say bye in one word\",\n",
    "    \"Name a color\",\n",
    "]})\n",
    "\n",
    "results = []\n",
    "for row in tqdm(prompts.itertuples(index=False)):\n",
    "    out = client.chat.completions.create(\n",
    "        model=model_id,\n",
    "        messages=[{\"role\": \"user\", \"content\": row.prompt}],\n",
    "        max_tokens=16,\n",
    "    )\n",
    "    results.append(out.choices[0].message.content)\n",
    "\n",
    "prompts[\"response\"] = results\n",
    "prompts.head()"
   ]
  },
  {
   "cell_type": "code",
   "execution_count": null,
   "id": "9b91d5e3",
   "metadata": {},
   "outputs": [],
   "source": [
    "# 11) Visualization\n",
    "import matplotlib.pyplot as plt\n",
    "\n",
    "prompts['length'] = prompts['response'].str.len()\n",
    "prompts.plot(kind='bar', y='length', legend=False, title='Response length by row')\n",
    "plt.tight_layout()\n",
    "plt.show()\n",
    "\n",
    "# 12) Save and Load Artifacts\n",
    "from pathlib import Path\n",
    "p = Path('outputs')\n",
    "p.mkdir(exist_ok=True)\n",
    "prompts.to_csv(p / 'responses.csv', index=False)\n",
    "print('Saved to', p / 'responses.csv')\n",
    "\n",
    "loaded = pd.read_csv(p / 'responses.csv')\n",
    "loaded.head()"
   ]
  },
  {
   "cell_type": "code",
   "execution_count": null,
   "id": "4f11ba07",
   "metadata": {},
   "outputs": [],
   "source": [
    "# 13) Run Unit Tests from Notebook\n",
    "!pytest -q -k \"basic or integration\""
   ]
  }
 ],
 "metadata": {
  "kernelspec": {
   "display_name": ".venv",
   "language": "python",
   "name": "python3"
  },
  "language_info": {
   "codemirror_mode": {
    "name": "ipython",
    "version": 3
   },
   "file_extension": ".py",
   "mimetype": "text/x-python",
   "name": "python",
   "nbconvert_exporter": "python",
   "pygments_lexer": "ipython3",
   "version": "3.13.0"
  }
 },
 "nbformat": 4,
 "nbformat_minor": 5
}
