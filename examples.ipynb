{
 "cells": [
  {
   "cell_type": "markdown",
   "id": "00306293",
   "metadata": {},
   "source": [
    "# Apertus Python Client – Hands-on Examples\n",
    "\n",
    "This notebook demonstrates how to use the `apertus` client to call the Apertus (Public AI Gateway) inference API. It mirrors familiar OpenAI-style ergonomics and includes sync, streaming, and async flows."
   ]
  },
  {
   "cell_type": "code",
   "execution_count": 6,
   "id": "832f5509",
   "metadata": {},
   "outputs": [
    {
     "name": "stdout",
     "output_type": "stream",
     "text": [
      "The autoreload extension is already loaded. To reload it, use:\n",
      "  %reload_ext autoreload\n"
     ]
    }
   ],
   "source": [
    "# 1) Import and Auto-Reload\n",
    "%load_ext autoreload\n",
    "%autoreload 2\n",
    "\n",
    "from apertus import Apertus, AsyncApertus, ApertusAPIError\n",
    "from apertus.types import ChatMessage\n",
    "import os, json, asyncio, time\n"
   ]
  },
  {
   "cell_type": "code",
   "execution_count": 7,
   "id": "508366e8",
   "metadata": {},
   "outputs": [
    {
     "name": "stdout",
     "output_type": "stream",
     "text": [
      "Obtaining file:///home/svenp/Documents/apertus_chat\n",
      "  Installing build dependencies ... \u001b[?25l-done\n",
      "\u001b[?25h  Checking if build backend supports build_editable ... \u001b[?25done\n",
      "\u001b[?25h  Checking if build backend supports build_editable ... \u001b[?25ldone\n",
      "\u001b[?25h  Getting requirements to build editable ... \u001b[?25ldone\n",
      "\u001b[?25h  Getting requirements to build editable ... \u001b[?25l-done\n",
      "\u001b[?25h  Preparing editable metadata (pyproject.toml) ... \u001b[?25done\n",
      "\u001b[?25h  Preparing editable metadata (pyproject.toml) ... \u001b[?25l-done\n",
      "\u001b[?25hRequirement already satisfied: httpx>=0.25 in ./.venv/lib/python3.13/site-packages (from apertus==0.1.0) (0.28.1)\n",
      "Requirement already satisfied: pydantic>=2.4 in ./.venv/lib/python3.13/site-packages (from apertus==0.1.0) (2.11.7)\n",
      "Requirement already satisfied: typing-extensions>=4.7 in ./.venv/lib/python3.13/site-packages (from apertus==0.1.0) (4.15.0)\n",
      "Requirement already satisfied: anyio in ./.venv/lib/python3.13/site-packages (from httpx>=0.25->apertus==0.1.0) (4.10.0)\n",
      "Requirement already satisfied: certifi in ./.venv/lib/python3.13/site-packages (from httpx>=0.25->apertus==0.1.0) (2025.8.3)\n",
      "Requirement already satisfied: httpcore==1.* in ./.venv/lib/python3.13/site-packages (from httpx>=0.25->apertus==0.1.0) (1.0.9)\n",
      "Requirement already satisfied: idna in ./.venv/lib/python3.13/site-packages (from httpx>=0.25->apertus==0.1.0) (3.10)\n",
      "Requirement already satisfied: h11>=0.16 in ./.venv/lib/python3.13/site-packages (from httpcore==1.*->httpx>=0.25->apertus==0.1.0) (0.16.0)\n",
      "Requirement already satisfied: annotated-types>=0.6.0 in ./.venv/lib/python3.13/site-packages (from pydantic>=2.4->apertus==0.1.0) (0.7.0)\n",
      "Requirement already satisfied: pydantic-core==2.33.2 in ./.venv/lib/python3.13/site-packages (from pydantic>=2.4->apertus==0.1.0) (2.33.2)\n",
      "Requirement already satisfied: typing-inspection>=0.4.0 in ./.venv/lib/python3.13/site-packages (from pydantic>=2.4->apertus==0.1.0) (0.4.1)\n",
      "Requirement already satisfied: sniffio>=1.1 in ./.venv/lib/python3.13/site-packages (from anyio->httpx>=0.25->apertus==0.1.0) (1.3.1)\n",
      "Building wheels for collected packages: apertus\n",
      "  Building editable for apertus (pyproject.toml) ... \u001b[?25done\n",
      "\u001b[?25hRequirement already satisfied: httpx>=0.25 in ./.venv/lib/python3.13/site-packages (from apertus==0.1.0) (0.28.1)\n",
      "Requirement already satisfied: pydantic>=2.4 in ./.venv/lib/python3.13/site-packages (from apertus==0.1.0) (2.11.7)\n",
      "Requirement already satisfied: typing-extensions>=4.7 in ./.venv/lib/python3.13/site-packages (from apertus==0.1.0) (4.15.0)\n",
      "Requirement already satisfied: anyio in ./.venv/lib/python3.13/site-packages (from httpx>=0.25->apertus==0.1.0) (4.10.0)\n",
      "Requirement already satisfied: certifi in ./.venv/lib/python3.13/site-packages (from httpx>=0.25->apertus==0.1.0) (2025.8.3)\n",
      "Requirement already satisfied: httpcore==1.* in ./.venv/lib/python3.13/site-packages (from httpx>=0.25->apertus==0.1.0) (1.0.9)\n",
      "Requirement already satisfied: idna in ./.venv/lib/python3.13/site-packages (from httpx>=0.25->apertus==0.1.0) (3.10)\n",
      "Requirement already satisfied: h11>=0.16 in ./.venv/lib/python3.13/site-packages (from httpcore==1.*->httpx>=0.25->apertus==0.1.0) (0.16.0)\n",
      "Requirement already satisfied: annotated-types>=0.6.0 in ./.venv/lib/python3.13/site-packages (from pydantic>=2.4->apertus==0.1.0) (0.7.0)\n",
      "Requirement already satisfied: pydantic-core==2.33.2 in ./.venv/lib/python3.13/site-packages (from pydantic>=2.4->apertus==0.1.0) (2.33.2)\n",
      "Requirement already satisfied: typing-inspection>=0.4.0 in ./.venv/lib/python3.13/site-packages (from pydantic>=2.4->apertus==0.1.0) (0.4.1)\n",
      "Requirement already satisfied: sniffio>=1.1 in ./.venv/lib/python3.13/site-packages (from anyio->httpx>=0.25->apertus==0.1.0) (1.3.1)\n",
      "Building wheels for collected packages: apertus\n",
      "  Building editable for apertus (pyproject.toml) ... \u001b[?25l-done\n",
      "\u001b[?25h  Created wheel for apertus: filename=apertus-0.1.0-0.editable-py3-none-any.whl size=3674 sha256=f824392118b3d00714cadab8a80d0b5ae3493e7e959275a0bd1710b1c76e810a\n",
      "  Stored in directory: /tmp/pip-ephem-wheel-cache-qdonf345/wheels/8a/49/1d/bcff3240cd9a3a7b6851df135623214d5b4300857a9d14f374\n",
      "Successfully built apertus\n",
      "\bdone\n",
      "\u001b[?25h  Created wheel for apertus: filename=apertus-0.1.0-0.editable-py3-none-any.whl size=3674 sha256=f824392118b3d00714cadab8a80d0b5ae3493e7e959275a0bd1710b1c76e810a\n",
      "  Stored in directory: /tmp/pip-ephem-wheel-cache-qdonf345/wheels/8a/49/1d/bcff3240cd9a3a7b6851df135623214d5b4300857a9d14f374\n",
      "Successfully built apertus\n",
      "Installing collected packages: apertus\n",
      "  Attempting uninstall: apertus\n",
      "    Found existing installation: apertus 0.1.0\n",
      "    Uninstalling apertus-0.1.0:\n",
      "      Successfully uninstalled apertus-0.1.0\n",
      "Installing collected packages: apertus\n",
      "  Attempting uninstall: apertus\n",
      "    Found existing installation: apertus 0.1.0\n",
      "    Uninstalling apertus-0.1.0:\n",
      "      Successfully uninstalled apertus-0.1.0\n",
      "Successfully installed apertus-0.1.0\n",
      "Successfully installed apertus-0.1.0\n",
      "Note: you may need to restart the kernel to use updated packages.\n",
      "Python: 3.13.0 (main, Oct  7 2024, 05:02:14) [GCC 11.4.0]\n",
      "Apertus version: 0.1.0\n",
      "Note: you may need to restart the kernel to use updated packages.\n",
      "Python: 3.13.0 (main, Oct  7 2024, 05:02:14) [GCC 11.4.0]\n",
      "Apertus version: 0.1.0\n"
     ]
    }
   ],
   "source": [
    "# 2) Local Install and Version Check\n",
    "%pip install -e .\n",
    "\n",
    "import sys, importlib.metadata as il\n",
    "print(\"Python:\", sys.version)\n",
    "print(\"Apertus version:\", il.version(\"apertus\"))"
   ]
  },
  {
   "cell_type": "code",
   "execution_count": null,
   "id": "1a6b781d",
   "metadata": {},
   "outputs": [
    {
     "name": "stdout",
     "output_type": "stream",
     "text": [
      "Available models: ['meta-llama/Llama-3.2-3B-Instruct', 'Cohere/Cohere-embed-multilingual-v3.0', 'Cohere/rerank-v3.5', 'swiss-ai/apertus-8b-instruct', 'swiss-ai/apertus-70b-instruct', 'openai/gpt-oss-120b', 'aisingapore/Gemma-SEA-LION-v3-9B-IT']\n",
      "Selected model: meta-llama/Llama-3.2-3B-Instruct\n"
     ]
    }
   ],
   "source": [
    "# 3) Quickstart: Core API Call — List Models and pick a model\n",
    "\n",
    "client = Apertus(api_key=\"<YOUR_KEY>\")\n",
    "models = client.models.list()\n",
    "print(\"Available models:\", [m.id for m in models.data][:10])\n",
    "\n",
    "model_id = models.data[0].id if models.data else None\n",
    "print(\"Selected model:\", model_id)"
   ]
  },
  {
   "cell_type": "code",
   "execution_count": 10,
   "id": "34c74348",
   "metadata": {},
   "outputs": [
    {
     "name": "stdout",
     "output_type": "stream",
     "text": [
      "Hello! How can I assist you today? If you have any questions or need information, feel free to ask.\n"
     ]
    }
   ],
   "source": [
    "# 4) Non-streaming Chat Completion with apertus-70b-instruct\n",
    "assert model_id is not None, \"No model available; ensure your API key has access.\"\n",
    "resp = client.chat.completions.create(\n",
    "    model=\"swiss-ai/apertus-70b-instruct\",\n",
    "    messages=[{\"role\": \"user\", \"content\": \"Hello Apertus!\"}],\n",
    "    temperature=0.2,\n",
    "    max_tokens=64,\n",
    ")\n",
    "print(resp.choices[0].message.content)"
   ]
  },
  {
   "cell_type": "code",
   "execution_count": 11,
   "id": "76a41975",
   "metadata": {},
   "outputs": [
    {
     "name": "stdout",
     "output_type": "stream",
     "text": [
      "Hello!! I I'm'm Apert Apertusus,, your your AI AI assistant assistant.. How How can can I I assist assist you you today today??\n",
      "\n"
     ]
    }
   ],
   "source": [
    "# 5) Streaming Chat Completion with apertus-70b-instruct\n",
    "chunks = []\n",
    "for ev in client.chat.completions.stream(\n",
    "    model=\"swiss-ai/apertus-70b-instruct\",\n",
    "    messages=[{\"role\": \"user\", \"content\": \"Stream a short greeting sentence.\"}],\n",
    "    temperature=0.2,\n",
    "    max_tokens=64,\n",
    "):\n",
    "    if ev.delta:\n",
    "        print(ev.delta, end=\"\", flush=True)\n",
    "        chunks.append(ev.delta)\n",
    "print()  # newline\n",
    "streamed_text = \"\".join(chunks)"
   ]
  },
  {
   "cell_type": "code",
   "execution_count": null,
   "id": "4d7f6ff9",
   "metadata": {},
   "outputs": [
    {
     "name": "stdout",
     "output_type": "stream",
     "text": [
      "Async back at ya. How can I assist you today?\n"
     ]
    }
   ],
   "source": [
    "# 6) Async usage\n",
    "async def async_demo():\n",
    "    aclient = AsyncApertus(api_key=\"<YOUR_KEY>\")\n",
    "    models = await aclient.models.list()\n",
    "    m = models.data[0].id if models.data else None\n",
    "    assert m, \"No model available\"\n",
    "    resp = await aclient.chat.completions.create(\n",
    "        model=m,\n",
    "        messages=[{\"role\": \"user\", \"content\": \"Async hello!\"}],\n",
    "    )\n",
    "    print(resp.choices[0].message.content)\n",
    "\n",
    "await async_demo()"
   ]
  },
  {
   "cell_type": "code",
   "execution_count": 14,
   "id": "e3354470",
   "metadata": {},
   "outputs": [
    {
     "name": "stderr",
     "output_type": "stream",
     "text": [
      "INFO:httpx:HTTP Request: GET https://api.publicai.co/v1/models \"HTTP/1.1 401 Unauthorized\"\n"
     ]
    },
    {
     "name": "stdout",
     "output_type": "stream",
     "text": [
      "Caught ApertusAPIError: 401 {\n",
      "  \"type\": \"https://httpproblems.com/http-status/401\",\n",
      "  \"title\": \"Unauthorized\",\n",
      "  \"status\": 401,\n",
      "  \"detail\": \"Authorization Failed\",\n",
      "  \"instance\": \"/v1/models\",\n",
      "  \"trace\": {\n",
      "    \"timestamp\": \"2025-09-07T19:53:01.241Z\",\n",
      "    \"requestId\": \"84cb014c-5cf7-47aa-8ebe-9f515c669a5c\",\n",
      "    \"buildId\": \"52247c8c-ae84-448c-ab64-5d69a414580f\",\n",
      "    \"rayId\": \"97b8bff54c42bc68\"\n",
      "  }\n",
      "}\n"
     ]
    }
   ],
   "source": [
    "# 7) Error Handling and Logging\n",
    "import logging\n",
    "logging.basicConfig(level=logging.INFO)\n",
    "\n",
    "try:\n",
    "    bad = Apertus(api_key=\"invalid-key\")\n",
    "    bad.models.list()\n",
    "except ApertusAPIError as e:\n",
    "    print(\"Caught ApertusAPIError:\", e.status_code, e.message)\n"
   ]
  },
  {
   "cell_type": "code",
   "execution_count": 15,
   "id": "647d1d36",
   "metadata": {},
   "outputs": [
    {
     "name": "stderr",
     "output_type": "stream",
     "text": [
      "INFO:httpx:HTTP Request: POST https://api.publicai.co/v1/chat/completions \"HTTP/1.1 200 OK\"\n",
      "INFO:httpx:HTTP Request: POST https://api.publicai.co/v1/chat/completions \"HTTP/1.1 200 OK\"\n",
      "INFO:httpx:HTTP Request: POST https://api.publicai.co/v1/chat/completions \"HTTP/1.1 200 OK\"\n",
      "INFO:httpx:HTTP Request: POST https://api.publicai.co/v1/chat/completions \"HTTP/1.1 200 OK\"\n",
      "INFO:httpx:HTTP Request: POST https://api.publicai.co/v1/chat/completions \"HTTP/1.1 200 OK\"\n",
      "INFO:httpx:HTTP Request: POST https://api.publicai.co/v1/chat/completions \"HTTP/1.1 200 OK\"\n",
      "INFO:httpx:HTTP Request: POST https://api.publicai.co/v1/chat/completions \"HTTP/1.1 200 OK\"\n",
      "INFO:httpx:HTTP Request: POST https://api.publicai.co/v1/chat/completions \"HTTP/1.1 200 OK\"\n",
      "INFO:httpx:HTTP Request: POST https://api.publicai.co/v1/chat/completions \"HTTP/1.1 200 OK\"\n",
      "INFO:httpx:HTTP Request: POST https://api.publicai.co/v1/chat/completions \"HTTP/1.1 200 OK\"\n",
      "INFO:httpx:HTTP Request: POST https://api.publicai.co/v1/chat/completions \"HTTP/1.1 200 OK\"\n",
      "INFO:httpx:HTTP Request: POST https://api.publicai.co/v1/chat/completions \"HTTP/1.1 200 OK\"\n",
      "INFO:httpx:HTTP Request: POST https://api.publicai.co/v1/chat/completions \"HTTP/1.1 200 OK\"\n",
      "INFO:httpx:HTTP Request: POST https://api.publicai.co/v1/chat/completions \"HTTP/1.1 200 OK\"\n",
      "INFO:httpx:HTTP Request: POST https://api.publicai.co/v1/chat/completions \"HTTP/1.1 200 OK\"\n"
     ]
    },
    {
     "name": "stdout",
     "output_type": "stream",
     "text": [
      "859 ms ± 170 ms per loop (mean ± std. dev. of 7 runs, 1 loop each)\n"
     ]
    }
   ],
   "source": [
    "# 9) Performance: timeit\n",
    "%timeit client.chat.completions.create(model=model_id, messages=[{\"role\": \"user\", \"content\": \"ping\"}], max_tokens=8)"
   ]
  },
  {
   "cell_type": "code",
   "execution_count": 18,
   "id": "474ae4c6",
   "metadata": {},
   "outputs": [
    {
     "name": "stderr",
     "output_type": "stream",
     "text": [
      "/home/svenp/Documents/apertus_chat/.venv/lib/python3.13/site-packages/tqdm/auto.py:21: TqdmWarning: IProgress not found. Please update jupyter and ipywidgets. See https://ipywidgets.readthedocs.io/en/stable/user_install.html\n",
      "  from .autonotebook import tqdm as notebook_tqdm\n",
      "0it [00:00, ?it/s]INFO:httpx:HTTP Request: POST https://api.publicai.co/v1/chat/completions \"HTTP/1.1 200 OK\"\n",
      "1it [00:01,  1.06s/it]INFO:httpx:HTTP Request: POST https://api.publicai.co/v1/chat/completions \"HTTP/1.1 200 OK\"\n",
      "1it [00:01,  1.06s/it]INFO:httpx:HTTP Request: POST https://api.publicai.co/v1/chat/completions \"HTTP/1.1 200 OK\"\n",
      "2it [00:01,  1.05it/s]INFO:httpx:HTTP Request: POST https://api.publicai.co/v1/chat/completions \"HTTP/1.1 200 OK\"\n",
      "2it [00:01,  1.05it/s]INFO:httpx:HTTP Request: POST https://api.publicai.co/v1/chat/completions \"HTTP/1.1 200 OK\"\n",
      "3it [00:02,  1.09it/s]\n",
      "INFO:httpx:HTTP Request: POST https://api.publicai.co/v1/chat/completions \"HTTP/1.1 200 OK\"\n",
      "3it [00:02,  1.09it/s]\n"
     ]
    },
    {
     "data": {
      "text/html": [
       "<div>\n",
       "<style scoped>\n",
       "    .dataframe tbody tr th:only-of-type {\n",
       "        vertical-align: middle;\n",
       "    }\n",
       "\n",
       "    .dataframe tbody tr th {\n",
       "        vertical-align: top;\n",
       "    }\n",
       "\n",
       "    .dataframe thead th {\n",
       "        text-align: right;\n",
       "    }\n",
       "</style>\n",
       "<table border=\"1\" class=\"dataframe\">\n",
       "  <thead>\n",
       "    <tr style=\"text-align: right;\">\n",
       "      <th></th>\n",
       "      <th>prompt</th>\n",
       "      <th>response</th>\n",
       "    </tr>\n",
       "  </thead>\n",
       "  <tbody>\n",
       "    <tr>\n",
       "      <th>0</th>\n",
       "      <td>Say hi in one word</td>\n",
       "      <td>Hello!</td>\n",
       "    </tr>\n",
       "    <tr>\n",
       "      <th>1</th>\n",
       "      <td>Say bye in one word</td>\n",
       "      <td>Goodbye!</td>\n",
       "    </tr>\n",
       "    <tr>\n",
       "      <th>2</th>\n",
       "      <td>Name a color</td>\n",
       "      <td>One color that could be named is \"cerulean\". \\...</td>\n",
       "    </tr>\n",
       "  </tbody>\n",
       "</table>\n",
       "</div>"
      ],
      "text/plain": [
       "                prompt                                           response\n",
       "0   Say hi in one word                                             Hello!\n",
       "1  Say bye in one word                                           Goodbye!\n",
       "2         Name a color  One color that could be named is \"cerulean\". \\..."
      ]
     },
     "execution_count": 18,
     "metadata": {},
     "output_type": "execute_result"
    }
   ],
   "source": [
    "# 10) Batch Processing with pandas + tqdm\n",
    "import pandas as pd\n",
    "from tqdm.auto import tqdm\n",
    "\n",
    "prompts = pd.DataFrame({\"prompt\": [\n",
    "    \"Say hi in one word\",\n",
    "    \"Say bye in one word\",\n",
    "    \"Name a color\",\n",
    "]})\n",
    "\n",
    "results = []\n",
    "for row in tqdm(prompts.itertuples(index=False)):\n",
    "    out = client.chat.completions.create(\n",
    "        model=\"swiss-ai/apertus-70b-instruct\",\n",
    "        messages=[{\"role\": \"user\", \"content\": row.prompt}],\n",
    "        max_tokens=16,\n",
    "    )\n",
    "    results.append(out.choices[0].message.content)\n",
    "\n",
    "prompts[\"response\"] = results\n",
    "prompts.head()"
   ]
  }
 ],
 "metadata": {
  "kernelspec": {
   "display_name": ".venv",
   "language": "python",
   "name": "python3"
  },
  "language_info": {
   "codemirror_mode": {
    "name": "ipython",
    "version": 3
   },
   "file_extension": ".py",
   "mimetype": "text/x-python",
   "name": "python",
   "nbconvert_exporter": "python",
   "pygments_lexer": "ipython3",
   "version": "3.13.0"
  }
 },
 "nbformat": 4,
 "nbformat_minor": 5
}
